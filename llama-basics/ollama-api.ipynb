{
 "cells": [
  {
   "cell_type": "code",
   "execution_count": 1,
   "metadata": {},
   "outputs": [],
   "source": [
    "import requests \n",
    "import json"
   ]
  },
  {
   "cell_type": "code",
   "execution_count": 24,
   "metadata": {},
   "outputs": [],
   "source": [
    "url = \"http://host.docker.internal:11434/api/generate\"\n",
    "\n",
    "headers = {\n",
    "    \"Content-Type\": \"application/json\"\n",
    "}\n",
    "\n",
    "#model = \"llama2-chinese:latest\"\n",
    "model = \"yi:latest\"\n",
    "\n",
    "data = {\n",
    "    \"model\": model,\n",
    "    \"prompt\": \"why is the sky blue?\",\n",
    "    \"stream\": False\n",
    "}"
   ]
  },
  {
   "cell_type": "code",
   "execution_count": 25,
   "metadata": {},
   "outputs": [],
   "source": [
    "response = requests.post(url, headers=headers, data=json.dumps(data))"
   ]
  },
  {
   "cell_type": "code",
   "execution_count": 26,
   "metadata": {},
   "outputs": [
    {
     "name": "stdout",
     "output_type": "stream",
     "text": [
      "The sky appears blue to us because of a phenomenon called Rayleigh scattering. This happens when sunlight enters Earth's atmosphere and collides with molecules in the air, mainly nitrogen and oxygen. These collisions scatter the light in all directions. But, among all colors in the visible spectrum, blue light is scattered in all directions more than other colors. That's why we see more blue light when looking at the sky during the day.\n",
      "\n",
      "However, the reason behind this scattering actually varies based on atmospheric conditions and your location. For example:\n",
      "\n",
      "1. During sunrise or sunset, the sky can appear red or orange. This is because the sunlight has to travel through a greater thickness of Earth's atmosphere before reaching an observer, scattering out most of the blue light and allowing lower-energy reds and oranges to penetrate more deeply into the upper atmosphere. \n",
      "\n",
      "2. On clear nights when the sky appears darker due to less atmospheric pollution (like over cities), stars can be seen even during the day itself because they are not scattered by Earth's atmosphere as much.\n",
      "\n",
      "3. At high altitudes or in space, you could observe a violet color, which is often mixed with other colors like red and orange when looking at our planet. This is due to Rayleigh scattering combined with the scattering of light from the ozone layer (which is why the sky can appear colored during sunrises and sunsets).\n",
      "\n",
      "Understanding how different elements in Earth's atmosphere interact with sunlight explains not just why the sky appears blue but also why we experience a wide range of colors depending on atmospheric conditions.\n"
     ]
    }
   ],
   "source": [
    "if response.status_code == 200:\n",
    "    response_text = response.text\n",
    "    data = json.loads(response_text)\n",
    "    actual_response = data[\"response\"]\n",
    "    print(actual_response)\n",
    "else:\n",
    "    print(\"Error\", response.status_code, response.text)"
   ]
  },
  {
   "cell_type": "code",
   "execution_count": null,
   "metadata": {},
   "outputs": [],
   "source": []
  }
 ],
 "metadata": {
  "kernelspec": {
   "display_name": "Python 3",
   "language": "python",
   "name": "python3"
  },
  "language_info": {
   "codemirror_mode": {
    "name": "ipython",
    "version": 3
   },
   "file_extension": ".py",
   "mimetype": "text/x-python",
   "name": "python",
   "nbconvert_exporter": "python",
   "pygments_lexer": "ipython3",
   "version": "3.12.5"
  }
 },
 "nbformat": 4,
 "nbformat_minor": 2
}
